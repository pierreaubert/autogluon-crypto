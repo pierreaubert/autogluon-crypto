{
 "cells": [
  {
   "cell_type": "code",
   "execution_count": 9,
   "id": "d107f868-ecc5-44df-be32-46783ea19582",
   "metadata": {},
   "outputs": [
    {
     "data": {
      "application/vnd.jupyter.widget-view+json": {
       "model_id": "66a57dad5ec844c49fcebe81cbea5c29",
       "version_major": 2,
       "version_minor": 0
      },
      "text/plain": [
       "FigureWidget({\n",
       "    'data': [{'type': 'scatter',\n",
       "              'uid': '9e23ece9-8b4d-45e7-bce1-c2e6bbe6e673',\n",
       "              'x': [2007-10-01 00:00:00, 2007-10-02 00:00:00, 2007-10-03 00:00:00,\n",
       "                    ..., 2009-03-30 00:00:00, 2009-03-31 00:00:00, 2009-04-01\n",
       "                    00:00:00],\n",
       "              'y': [157.41, 158.59, 159.18, ..., 105.01, 107.45, 109.0]}],\n",
       "    'layout': {'template': '...',\n",
       "               'title': {'text': 'Time series with range slider and selectors'},\n",
       "               'xaxis': {'rangeselector': {'buttons': [{'count': 1,\n",
       "                                                        'label': '1m',\n",
       "                                                        'step': 'month',\n",
       "                                                        'stepmode': 'backward'},\n",
       "                                                       {'count': 6,\n",
       "                                                        'label': '6m',\n",
       "                                                        'step': 'month',\n",
       "                                                        'stepmode': 'backward'},\n",
       "                                                       {'count': 1, 'label': 'YTD', 'step': 'year', 'stepmode': 'todate'},\n",
       "                                                       {'count': 1, 'label': '1y', 'step': 'year', 'stepmode': 'backward'},\n",
       "                                                       {'step': 'all'}]},\n",
       "                         'rangeslider': {'visible': True},\n",
       "                         'type': 'date'}}\n",
       "})"
      ]
     },
     "execution_count": 9,
     "metadata": {},
     "output_type": "execute_result"
    }
   ],
   "source": [
    "from os import getenv\n",
    "from datetime import datetime\n",
    "\n",
    "import plotly.graph_objs as go\n",
    "\n",
    "import pandas_datareader.data as web\n",
    "\n",
    "\n",
    "df = web.DataReader(\"AAPL.US\", \"quandl\", datetime(2007, 10, 1), datetime(2009, 4, 1))\n",
    "\n",
    "# Make sure dates are in ascending order\n",
    "# We need this for slicing in the callback below\n",
    "df.sort_index(ascending=True, inplace=True)\n",
    "\n",
    "trace = go.Scatter(x=list(df.index), y=list(df.High))\n",
    "\n",
    "data = [trace]\n",
    "layout = dict(\n",
    "    title=\"Time series with range slider and selectors\",\n",
    "    xaxis=dict(\n",
    "        rangeselector=dict(\n",
    "            buttons=list(\n",
    "                [\n",
    "                    dict(count=1, label=\"1m\", step=\"month\", stepmode=\"backward\"),\n",
    "                    dict(count=6, label=\"6m\", step=\"month\", stepmode=\"backward\"),\n",
    "                    dict(count=1, label=\"YTD\", step=\"year\", stepmode=\"todate\"),\n",
    "                    dict(count=1, label=\"1y\", step=\"year\", stepmode=\"backward\"),\n",
    "                    dict(step=\"all\"),\n",
    "                ]\n",
    "            )\n",
    "        ),\n",
    "        rangeslider=dict(visible=True),\n",
    "        type=\"date\",\n",
    "    ),\n",
    ")\n",
    "\n",
    "fig = go.FigureWidget(data=data, layout=layout)\n",
    "fig"
   ]
  },
  {
   "cell_type": "code",
   "execution_count": 10,
   "id": "85fed9e4-3323-4ebc-974b-0f8b97af142c",
   "metadata": {},
   "outputs": [],
   "source": [
    "def zoom(layout, xrange):\n",
    "    in_view = df.loc[fig.layout.xaxis.range[0] : fig.layout.xaxis.range[1]]\n",
    "    fig.layout.yaxis.range = [in_view.High.min() - 10, in_view.High.max() + 10]\n",
    "\n",
    "\n",
    "fig.layout.on_change(zoom, \"xaxis.range\")"
   ]
  },
  {
   "cell_type": "code",
   "execution_count": 11,
   "id": "2839961f-9e95-4a12-bd4a-487b87335329",
   "metadata": {},
   "outputs": [
    {
     "data": {
      "text/plain": [
       "Layout({\n",
       "    'template': '...',\n",
       "    'title': {'text': 'Time series with range slider and selectors'},\n",
       "    'xaxis': {'range': [2009-01-01, 2009-04-01],\n",
       "              'rangeselector': {'buttons': [{'count': 1, 'label': '1m', 'step': 'month', 'stepmode': 'backward'},\n",
       "                                            {'count': 6, 'label': '6m', 'step': 'month', 'stepmode': 'backward'},\n",
       "                                            {'count': 1, 'label': 'YTD', 'step': 'year', 'stepmode': 'todate'},\n",
       "                                            {'count': 1, 'label': '1y', 'step': 'year', 'stepmode': 'backward'},\n",
       "                                            {'step': 'all'}]},\n",
       "              'rangeslider': {'visible': True},\n",
       "              'type': 'date'},\n",
       "    'yaxis': {'range': [72.0, 119.98]}\n",
       "})"
      ]
     },
     "execution_count": 11,
     "metadata": {},
     "output_type": "execute_result"
    }
   ],
   "source": [
    "fig.layout"
   ]
  },
  {
   "cell_type": "code",
   "execution_count": null,
   "id": "58902e41-329e-4eb9-bea4-353559f5da93",
   "metadata": {},
   "outputs": [],
   "source": []
  },
  {
   "cell_type": "code",
   "execution_count": null,
   "id": "76ee7f41-7da2-479e-88c8-92b53c27aed8",
   "metadata": {},
   "outputs": [],
   "source": []
  }
 ],
 "metadata": {
  "kernelspec": {
   "display_name": "Python 3 (ipykernel)",
   "language": "python",
   "name": "python3"
  },
  "language_info": {
   "codemirror_mode": {
    "name": "ipython",
    "version": 3
   },
   "file_extension": ".py",
   "mimetype": "text/x-python",
   "name": "python",
   "nbconvert_exporter": "python",
   "pygments_lexer": "ipython3",
   "version": "3.10.12"
  }
 },
 "nbformat": 4,
 "nbformat_minor": 5
}
